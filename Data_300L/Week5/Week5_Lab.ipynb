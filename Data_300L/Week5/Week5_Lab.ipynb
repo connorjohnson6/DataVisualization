{
 "cells": [
  {
   "cell_type": "code",
   "execution_count": 16,
   "id": "ba77e583",
   "metadata": {},
   "outputs": [
    {
     "name": "stdout",
     "output_type": "stream",
     "text": [
      "   Name   Age  Location\n",
      "0   Nik  33.0   Toronto\n",
      "1  Kate  32.0    London\n",
      "2  Evan  40.0  New York\n",
      "3  Kyra  57.0       NaN\n",
      "4   NaN   NaN       NaN\n"
     ]
    }
   ],
   "source": [
    "import pandas as pd\n",
    "import numpy as np\n",
    "df = pd.DataFrame.from_dict({\n",
    "'Name': ['Nik', 'Kate', 'Evan', 'Kyra', np.NaN],\n",
    "'Age': [33, 32, 40, 57, np.NaN],\n",
    "'Location': ['Toronto', 'London', 'New York', np.NaN, np.NaN]\n",
    "})\n",
    "print(df)\n",
    "\n",
    "# Returns:\n",
    "#    Name   Age  Location\n",
    "# 0   Nik  33.0   Toronto\n",
    "# 1  Kate  32.0    London\n",
    "# 2  Evan  40.0  New York\n",
    "# 3  Kyra  57.0       NaN\n",
    "# 4   NaN   NaN       NaN"
   ]
  },
  {
   "cell_type": "code",
   "execution_count": 2,
   "id": "e4d6a936",
   "metadata": {},
   "outputs": [
    {
     "name": "stdout",
     "output_type": "stream",
     "text": [
      "    Name    Age  Location\n",
      "0  False  False     False\n",
      "1  False  False     False\n",
      "2  False  False     False\n",
      "3  False  False      True\n",
      "4   True   True      True\n"
     ]
    }
   ],
   "source": [
    "print(df.isnull())"
   ]
  },
  {
   "cell_type": "code",
   "execution_count": 3,
   "id": "9a81b3bc",
   "metadata": {},
   "outputs": [
    {
     "name": "stdout",
     "output_type": "stream",
     "text": [
      "Name        1\n",
      "Age         1\n",
      "Location    2\n",
      "dtype: int64\n"
     ]
    }
   ],
   "source": [
    "print(df.isnull().sum())"
   ]
  },
  {
   "cell_type": "code",
   "execution_count": 4,
   "id": "ca5e67cc",
   "metadata": {},
   "outputs": [
    {
     "data": {
      "text/html": [
       "<div>\n",
       "<style scoped>\n",
       "    .dataframe tbody tr th:only-of-type {\n",
       "        vertical-align: middle;\n",
       "    }\n",
       "\n",
       "    .dataframe tbody tr th {\n",
       "        vertical-align: top;\n",
       "    }\n",
       "\n",
       "    .dataframe thead th {\n",
       "        text-align: right;\n",
       "    }\n",
       "</style>\n",
       "<table border=\"1\" class=\"dataframe\">\n",
       "  <thead>\n",
       "    <tr style=\"text-align: right;\">\n",
       "      <th></th>\n",
       "      <th>Name</th>\n",
       "      <th>Age</th>\n",
       "      <th>Location</th>\n",
       "    </tr>\n",
       "  </thead>\n",
       "  <tbody>\n",
       "    <tr>\n",
       "      <th>0</th>\n",
       "      <td>Nik</td>\n",
       "      <td>33.0</td>\n",
       "      <td>Toronto</td>\n",
       "    </tr>\n",
       "    <tr>\n",
       "      <th>1</th>\n",
       "      <td>Kate</td>\n",
       "      <td>32.0</td>\n",
       "      <td>London</td>\n",
       "    </tr>\n",
       "    <tr>\n",
       "      <th>2</th>\n",
       "      <td>Evan</td>\n",
       "      <td>40.0</td>\n",
       "      <td>New York</td>\n",
       "    </tr>\n",
       "  </tbody>\n",
       "</table>\n",
       "</div>"
      ],
      "text/plain": [
       "   Name   Age  Location\n",
       "0   Nik  33.0   Toronto\n",
       "1  Kate  32.0    London\n",
       "2  Evan  40.0  New York"
      ]
     },
     "execution_count": 4,
     "metadata": {},
     "output_type": "execute_result"
    }
   ],
   "source": [
    "df.dropna(\n",
    "    axis=0,         # Whether to drop rows or columns\n",
    "    how='any',      # Whether to drop records if 'all' or 'any' records are missing\n",
    "    thresh=None,    # How many columns/rows must be missing to drop\n",
    "    subset=None,    # Which rows/columns to consider\n",
    ")"
   ]
  },
  {
   "cell_type": "code",
   "execution_count": 5,
   "id": "e6759cb9",
   "metadata": {},
   "outputs": [
    {
     "name": "stdout",
     "output_type": "stream",
     "text": [
      "   Name   Age  Location\n",
      "0   Nik  33.0   Toronto\n",
      "1  Kate  32.0    London\n",
      "2  Evan  40.0  New York\n"
     ]
    }
   ],
   "source": [
    "df = df.dropna()\n",
    "print(df)\n",
    "# Returns:\n",
    "#    Name   Age  Location\n",
    "# 0   Nik  33.0   Toronto\n",
    "# 1  Kate  32.0    London\n",
    "# 2  Evan  40.0  New York"
   ]
  },
  {
   "cell_type": "code",
   "execution_count": 8,
   "id": "697aedbc",
   "metadata": {},
   "outputs": [
    {
     "name": "stdout",
     "output_type": "stream",
     "text": [
      "   Name   Age  Location\n",
      "0   Nik  33.0   Toronto\n",
      "1  Kate  32.0    London\n",
      "2  Evan  40.0  New York\n",
      "3  Kyra  57.0       NaN\n"
     ]
    }
   ],
   "source": [
    "df = df.dropna(how='all')\n",
    "print(df)"
   ]
  },
  {
   "cell_type": "code",
   "execution_count": 11,
   "id": "ea890b00",
   "metadata": {},
   "outputs": [
    {
     "name": "stdout",
     "output_type": "stream",
     "text": [
      "   Name   Age  Location\n",
      "0   Nik  33.0   Toronto\n",
      "1  Kate  32.0    London\n",
      "2  Evan  40.0  New York\n",
      "3  Kyra  57.0         0\n",
      "4     0   0.0         0\n"
     ]
    }
   ],
   "source": [
    "df = df.fillna(0)\n",
    "print(df)"
   ]
  },
  {
   "cell_type": "code",
   "execution_count": 14,
   "id": "9897a55b",
   "metadata": {},
   "outputs": [
    {
     "name": "stdout",
     "output_type": "stream",
     "text": [
      "      Name   Age  Location\n",
      "0      Nik  33.0   Toronto\n",
      "1     Kate  32.0    London\n",
      "2     Evan  40.0  New York\n",
      "3     Kyra  57.0       USA\n",
      "4  Someone  25.0       USA\n"
     ]
    }
   ],
   "source": [
    "df = df.fillna({'Name': 'Someone', 'Age': 25, 'Location': 'USA'})\n",
    "print(df)"
   ]
  },
  {
   "cell_type": "code",
   "execution_count": 17,
   "id": "3a01a2d1",
   "metadata": {},
   "outputs": [
    {
     "name": "stdout",
     "output_type": "stream",
     "text": [
      "   Name   Age  Location\n",
      "0   Nik  33.0   Toronto\n",
      "1  Kate  32.0    London\n",
      "2  Evan  40.0  New York\n",
      "3  Kyra  57.0       NaN\n",
      "4   NaN  40.5       NaN\n"
     ]
    }
   ],
   "source": [
    "df['Age'] = df['Age'].fillna(df['Age'].mean())\n",
    "print(df)"
   ]
  },
  {
   "cell_type": "code",
   "execution_count": 18,
   "id": "6093dde8",
   "metadata": {},
   "outputs": [
    {
     "name": "stdout",
     "output_type": "stream",
     "text": [
      "   Name  Age  Location Date Modified\n",
      "0   Nik   33   Toronto    2022‐01‐01\n",
      "1  Kate   32    London    2022‐02‐24\n",
      "2  Evan   40  New York    2022‐08‐12\n",
      "3  Kyra   57   Atlanta    2022‐09‐12\n",
      "4   Nik   33   Toronto    2022‐01‐01\n",
      "5  Kate   32     Paris    2022‐12‐09\n"
     ]
    }
   ],
   "source": [
    "import pandas as pd\n",
    "df = pd.DataFrame.from_dict({\n",
    "'Name': ['Nik', 'Kate', 'Evan', 'Kyra', 'Nik', 'Kate'],\n",
    "'Age': [33, 32, 40, 57, 33, 32],\n",
    "'Location': ['Toronto', 'London', 'New York', 'Atlanta', 'Toronto', 'Paris'],\n",
    "'Date Modified': ['2022‐01‐01', '2022‐02‐24', '2022‐08‐12', '2022‐09‐12', '2022‐01‐01', '2022‐12‐09']\n",
    "})\n",
    "print(df)"
   ]
  },
  {
   "cell_type": "code",
   "execution_count": 19,
   "id": "5c5d68d1",
   "metadata": {},
   "outputs": [
    {
     "name": "stdout",
     "output_type": "stream",
     "text": [
      "0    False\n",
      "1    False\n",
      "2    False\n",
      "3    False\n",
      "4     True\n",
      "5    False\n",
      "dtype: bool\n"
     ]
    }
   ],
   "source": [
    "print(df.duplicated())"
   ]
  },
  {
   "cell_type": "code",
   "execution_count": 20,
   "id": "41235358",
   "metadata": {},
   "outputs": [
    {
     "name": "stdout",
     "output_type": "stream",
     "text": [
      "1\n"
     ]
    }
   ],
   "source": [
    "print(df.duplicated().sum())"
   ]
  },
  {
   "cell_type": "code",
   "execution_count": 21,
   "id": "f93602a3",
   "metadata": {},
   "outputs": [
    {
     "data": {
      "text/html": [
       "<div>\n",
       "<style scoped>\n",
       "    .dataframe tbody tr th:only-of-type {\n",
       "        vertical-align: middle;\n",
       "    }\n",
       "\n",
       "    .dataframe tbody tr th {\n",
       "        vertical-align: top;\n",
       "    }\n",
       "\n",
       "    .dataframe thead th {\n",
       "        text-align: right;\n",
       "    }\n",
       "</style>\n",
       "<table border=\"1\" class=\"dataframe\">\n",
       "  <thead>\n",
       "    <tr style=\"text-align: right;\">\n",
       "      <th></th>\n",
       "      <th>Name</th>\n",
       "      <th>Age</th>\n",
       "      <th>Location</th>\n",
       "      <th>Date Modified</th>\n",
       "    </tr>\n",
       "  </thead>\n",
       "  <tbody>\n",
       "    <tr>\n",
       "      <th>0</th>\n",
       "      <td>Nik</td>\n",
       "      <td>33</td>\n",
       "      <td>Toronto</td>\n",
       "      <td>2022‐01‐01</td>\n",
       "    </tr>\n",
       "    <tr>\n",
       "      <th>1</th>\n",
       "      <td>Kate</td>\n",
       "      <td>32</td>\n",
       "      <td>London</td>\n",
       "      <td>2022‐02‐24</td>\n",
       "    </tr>\n",
       "    <tr>\n",
       "      <th>2</th>\n",
       "      <td>Evan</td>\n",
       "      <td>40</td>\n",
       "      <td>New York</td>\n",
       "      <td>2022‐08‐12</td>\n",
       "    </tr>\n",
       "    <tr>\n",
       "      <th>3</th>\n",
       "      <td>Kyra</td>\n",
       "      <td>57</td>\n",
       "      <td>Atlanta</td>\n",
       "      <td>2022‐09‐12</td>\n",
       "    </tr>\n",
       "    <tr>\n",
       "      <th>5</th>\n",
       "      <td>Kate</td>\n",
       "      <td>32</td>\n",
       "      <td>Paris</td>\n",
       "      <td>2022‐12‐09</td>\n",
       "    </tr>\n",
       "  </tbody>\n",
       "</table>\n",
       "</div>"
      ],
      "text/plain": [
       "   Name  Age  Location Date Modified\n",
       "0   Nik   33   Toronto    2022‐01‐01\n",
       "1  Kate   32    London    2022‐02‐24\n",
       "2  Evan   40  New York    2022‐08‐12\n",
       "3  Kyra   57   Atlanta    2022‐09‐12\n",
       "5  Kate   32     Paris    2022‐12‐09"
      ]
     },
     "execution_count": 21,
     "metadata": {},
     "output_type": "execute_result"
    }
   ],
   "source": [
    "df.drop_duplicates(\n",
    "    subset=None,            # Which columns to consider\n",
    "    keep='first',           # Which duplicate record to keep\n",
    "    inplace=False,          # Whether to drop in place\n",
    "    ignore_index=False # Whether to relabel the index\n",
    ")"
   ]
  },
  {
   "cell_type": "code",
   "execution_count": 22,
   "id": "9dc92d19",
   "metadata": {},
   "outputs": [
    {
     "name": "stdout",
     "output_type": "stream",
     "text": [
      "   Name  Age  Location Date Modified\n",
      "0   Nik   33   Toronto    2022‐01‐01\n",
      "1  Kate   32    London    2022‐02‐24\n",
      "2  Evan   40  New York    2022‐08‐12\n",
      "3  Kyra   57   Atlanta    2022‐09‐12\n",
      "5  Kate   32     Paris    2022‐12‐09\n"
     ]
    }
   ],
   "source": [
    "df = df.drop_duplicates()\n",
    "print(df)"
   ]
  },
  {
   "cell_type": "code",
   "execution_count": 23,
   "id": "20841c67",
   "metadata": {},
   "outputs": [
    {
     "name": "stdout",
     "output_type": "stream",
     "text": [
      "   Name  Age  Location Date Modified\n",
      "5  Kate   32     Paris    2022‐12‐09\n",
      "3  Kyra   57   Atlanta    2022‐09‐12\n",
      "2  Evan   40  New York    2022‐08‐12\n",
      "0   Nik   33   Toronto    2022‐01‐01\n"
     ]
    }
   ],
   "source": [
    "df = df.sort_values(by='Date Modified', ascending=False)\n",
    "df = df.drop_duplicates(subset=['Name', 'Age'], keep='first')\n",
    "print(df)"
   ]
  },
  {
   "cell_type": "code",
   "execution_count": 26,
   "id": "7fd71ec0",
   "metadata": {},
   "outputs": [
    {
     "name": "stdout",
     "output_type": "stream",
     "text": [
      "              Name    Region  Location Favorite Color\n",
      "0  Tranter, Melvyn  Region A   TORONTO        green  \n",
      "1   Lana, Courtney  Region A    LONDON            red\n",
      "2     Abel, Shakti  Region B  New york         yellow\n",
      "3    Vasu, Imogene  Region C   ATLANTA           blue\n",
      "4  Aravind, Shelly  Region D   toronto       purple  \n"
     ]
    }
   ],
   "source": [
    "import pandas as pd\n",
    "df = pd.DataFrame.from_dict({\n",
    "'Name': ['Tranter, Melvyn', 'Lana, Courtney', 'Abel, Shakti', 'Vasu, Imogene','Aravind, Shelly'],\n",
    "'Region': ['Region A', 'Region A', 'Region B', 'Region C', 'Region D'],\n",
    "'Location': ['TORONTO', 'LONDON', 'New york', 'ATLANTA', 'toronto'],\n",
    "'Favorite Color': ['   green  ', 'red', '  yellow', 'blue', 'purple  ']\n",
    "})\n",
    "print(df)\n",
    "# Returns:\n",
    "#               Name    Region  Location Favorite Color\n",
    "# 0  Tranter, Melvyn  Region A   TORONTO        green  \n",
    "# 1   Lana, Courtney  Region A    LONDON            red\n",
    "# 2     Abel, Shakti  Region B  New york         yellow\n",
    "# 3    Vasu, Imogene  Region C   ATLANTA           blue\n",
    "# 4  Aravind, Shelly  Region D   toronto       purple"
   ]
  },
  {
   "cell_type": "code",
   "execution_count": 27,
   "id": "8541bdd4",
   "metadata": {},
   "outputs": [
    {
     "name": "stdout",
     "output_type": "stream",
     "text": [
      "              Name    Region  Location Favorite Color\n",
      "0  Tranter, Melvyn  Region A   TORONTO          green\n",
      "1   Lana, Courtney  Region A    LONDON            red\n",
      "2     Abel, Shakti  Region B  New york         yellow\n",
      "3    Vasu, Imogene  Region C   ATLANTA           blue\n",
      "4  Aravind, Shelly  Region D   toronto         purple\n"
     ]
    }
   ],
   "source": [
    "df['Favorite Color'] = df['Favorite Color'].str.strip()\n",
    "print(df)"
   ]
  },
  {
   "cell_type": "code",
   "execution_count": 28,
   "id": "1ddb6cd7",
   "metadata": {},
   "outputs": [
    {
     "name": "stdout",
     "output_type": "stream",
     "text": [
      "0    [Tranter,  Melvyn]\n",
      "1     [Lana,  Courtney]\n",
      "2       [Abel,  Shakti]\n",
      "3      [Vasu,  Imogene]\n",
      "4    [Aravind,  Shelly]\n",
      "Name: Name, dtype: object\n"
     ]
    }
   ],
   "source": [
    "print(df['Name'].str.split(','))"
   ]
  },
  {
   "cell_type": "code",
   "execution_count": 29,
   "id": "ee099feb",
   "metadata": {},
   "outputs": [
    {
     "name": "stdout",
     "output_type": "stream",
     "text": [
      "              Name    Region  Location Favorite Color Last Name First Name\n",
      "0  Tranter, Melvyn  Region A   TORONTO          green   Tranter     Melvyn\n",
      "1   Lana, Courtney  Region A    LONDON            red      Lana   Courtney\n",
      "2     Abel, Shakti  Region B  New york         yellow      Abel     Shakti\n",
      "3    Vasu, Imogene  Region C   ATLANTA           blue      Vasu    Imogene\n",
      "4  Aravind, Shelly  Region D   toronto         purple   Aravind     Shelly\n"
     ]
    }
   ],
   "source": [
    "df[['Last Name', 'First Name']] = df['Name'].str.split(',', expand=True)\n",
    "print(df)"
   ]
  },
  {
   "cell_type": "code",
   "execution_count": 30,
   "id": "baeebd4b",
   "metadata": {},
   "outputs": [
    {
     "name": "stdout",
     "output_type": "stream",
     "text": [
      "              Name Region  Location Favorite Color Last Name First Name\n",
      "0  Tranter, Melvyn      A   TORONTO          green   Tranter     Melvyn\n",
      "1   Lana, Courtney      A    LONDON            red      Lana   Courtney\n",
      "2     Abel, Shakti      B  New york         yellow      Abel     Shakti\n",
      "3    Vasu, Imogene      C   ATLANTA           blue      Vasu    Imogene\n",
      "4  Aravind, Shelly      D   toronto         purple   Aravind     Shelly\n"
     ]
    }
   ],
   "source": [
    "df['Region'] = df['Region'].str.replace('Region ', '')\n",
    "print(df)\n",
    "# Returns:\n",
    "#               Name Region  Location Favorite Color\n",
    "# 0  Tranter, Melvyn      A   TORONTO        green  \n",
    "# 1   Lana, Courtney      A    LONDON            red\n",
    "# 2     Abel, Shakti      B  New york         yellow\n",
    "# 3    Vasu, Imogene      C   ATLANTA           blue\n",
    "# 4  Aravind, Shelly      D   toronto       purple "
   ]
  },
  {
   "cell_type": "code",
   "execution_count": 31,
   "id": "564f2fc0",
   "metadata": {},
   "outputs": [
    {
     "name": "stdout",
     "output_type": "stream",
     "text": [
      "              Name Region  Location Favorite Color Last Name First Name\n",
      "0  Tranter, Melvyn      A   Toronto          green   Tranter     Melvyn\n",
      "1   Lana, Courtney      A    London            red      Lana   Courtney\n",
      "2     Abel, Shakti      B  New York         yellow      Abel     Shakti\n",
      "3    Vasu, Imogene      C   Atlanta           blue      Vasu    Imogene\n",
      "4  Aravind, Shelly      D   Toronto         purple   Aravind     Shelly\n"
     ]
    }
   ],
   "source": [
    "df['Location'] = df['Location'].str.title()\n",
    "print(df)\n",
    "# Returns:\n",
    "#     Name    Region  Location Favorite Color\n",
    "# 0  Tranter, Melvyn  Region A   Toronto    green  \n",
    "# 1   Lana, Courtney  Region A    London red\n",
    "# 2     Abel, Shakti  Region B  New York     yellow\n",
    "# 3    Vasu, Imogene  Region C   Atlanta    blue\n",
    "# 4  Aravind, Shelly  Region D   Toronto   purple  "
   ]
  },
  {
   "cell_type": "code",
   "execution_count": 33,
   "id": "ec04d91f",
   "metadata": {},
   "outputs": [],
   "source": [
    "import pandas as pd\n",
    "import numpy as np\n",
    "df = pd.DataFrame.from_dict({\n",
    "'Name': ['Tranter; Melvyn', 'Lana; Courtney', 'Abel; Shakti', 'Vasu; Imogene', 'Johnson; Connor', 'Lee; Connor'],\n",
    "'Location': ['TORONTO', 'LONDON', 'New york', np.NaN, 'toronto', 'Madrid'],\n",
    "'Sales': [123, 243, 654, np.NaN, 345, np.NaN]\n",
    "})"
   ]
  },
  {
   "cell_type": "code",
   "execution_count": 34,
   "id": "6bad819b",
   "metadata": {},
   "outputs": [
    {
     "name": "stdout",
     "output_type": "stream",
     "text": [
      "              Name  Location  Sales\n",
      "0  Tranter; Melvyn   TORONTO  123.0\n",
      "1   Lana; Courtney    LONDON  243.0\n",
      "2     Abel; Shakti  New york  654.0\n",
      "3    Vasu; Imogene       NaN    NaN\n",
      "4  Johnson; Connor   toronto  345.0\n",
      "5      Lee; Connor    Madrid    NaN\n"
     ]
    }
   ],
   "source": [
    "print(df)"
   ]
  },
  {
   "cell_type": "code",
   "execution_count": 36,
   "id": "94be817e",
   "metadata": {},
   "outputs": [
    {
     "name": "stdout",
     "output_type": "stream",
     "text": [
      "              Name  Location  Sales Last Name First Name\n",
      "0  Tranter; Melvyn   TORONTO  123.0   Tranter     Melvyn\n",
      "1   Lana; Courtney    LONDON  243.0      Lana   Courtney\n",
      "2     Abel; Shakti  New york  654.0      Abel     Shakti\n",
      "3    Vasu; Imogene       NaN    NaN      Vasu    Imogene\n",
      "4  Johnson; Connor   toronto  345.0   Johnson     Connor\n",
      "5      Lee; Connor    Madrid    NaN       Lee     Connor\n"
     ]
    }
   ],
   "source": [
    "df[['Last Name', 'First Name']] = df['Name'].str.split(';', expand=True)\n",
    "print(df)"
   ]
  },
  {
   "cell_type": "code",
   "execution_count": 37,
   "id": "d7fe77f3",
   "metadata": {},
   "outputs": [],
   "source": [
    "df = df.drop_duplicates(subset='Name', keep='last')"
   ]
  },
  {
   "cell_type": "code",
   "execution_count": 38,
   "id": "4be1cbd6",
   "metadata": {},
   "outputs": [
    {
     "name": "stdout",
     "output_type": "stream",
     "text": [
      "              Name  Location  Sales Last Name First Name\n",
      "0  Tranter; Melvyn   TORONTO  123.0   Tranter     Melvyn\n",
      "1   Lana; Courtney    LONDON  243.0      Lana   Courtney\n",
      "2     Abel; Shakti  New york  654.0      Abel     Shakti\n",
      "3    Vasu; Imogene       NaN    NaN      Vasu    Imogene\n",
      "4  Johnson; Connor   toronto  345.0   Johnson     Connor\n",
      "5      Lee; Connor    Madrid    NaN       Lee     Connor\n"
     ]
    }
   ],
   "source": [
    "print(df)"
   ]
  },
  {
   "cell_type": "code",
   "execution_count": 39,
   "id": "faf913e4",
   "metadata": {},
   "outputs": [
    {
     "name": "stdout",
     "output_type": "stream",
     "text": [
      "Name          0.000000\n",
      "Location      0.166667\n",
      "Sales         0.333333\n",
      "Last Name     0.000000\n",
      "First Name    0.000000\n",
      "dtype: float64\n"
     ]
    }
   ],
   "source": [
    "print(df.isnull().sum() / len(df))"
   ]
  },
  {
   "cell_type": "code",
   "execution_count": null,
   "id": "322fef81",
   "metadata": {},
   "outputs": [],
   "source": []
  }
 ],
 "metadata": {
  "kernelspec": {
   "display_name": "Python 3",
   "language": "python",
   "name": "python3"
  },
  "language_info": {
   "codemirror_mode": {
    "name": "ipython",
    "version": 3
   },
   "file_extension": ".py",
   "mimetype": "text/x-python",
   "name": "python",
   "nbconvert_exporter": "python",
   "pygments_lexer": "ipython3",
   "version": "3.8.8"
  }
 },
 "nbformat": 4,
 "nbformat_minor": 5
}
