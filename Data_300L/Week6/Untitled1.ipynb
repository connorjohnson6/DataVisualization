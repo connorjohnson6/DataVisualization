{
 "cells": [
  {
   "cell_type": "code",
   "execution_count": null,
   "id": "4b4c63fb",
   "metadata": {},
   "outputs": [],
   "source": [
    "import pandas as pd\n",
    "from bokeh.models import ColumnDataSource\n",
    "\n",
    "sales = pd.read_csv()\n",
    "source = ColumnDataSource(sales)\n",
    "\n",
    "plot = figure(plot_width=800, plot_height=350)\n",
    "plot.circle(x = 'Year',\n",
    "            y = 'Global_Sales',\n",
    "            source = source)"
   ]
  }
 ],
 "metadata": {
  "kernelspec": {
   "display_name": "Python 3",
   "language": "python",
   "name": "python3"
  },
  "language_info": {
   "codemirror_mode": {
    "name": "ipython",
    "version": 3
   },
   "file_extension": ".py",
   "mimetype": "text/x-python",
   "name": "python",
   "nbconvert_exporter": "python",
   "pygments_lexer": "ipython3",
   "version": "3.8.8"
  }
 },
 "nbformat": 4,
 "nbformat_minor": 5
}
